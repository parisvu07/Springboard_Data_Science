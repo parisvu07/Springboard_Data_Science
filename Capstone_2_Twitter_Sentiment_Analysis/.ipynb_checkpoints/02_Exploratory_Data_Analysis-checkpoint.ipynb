{
 "cells": [
  {
   "cell_type": "markdown",
   "id": "d40e9043",
   "metadata": {},
   "source": [
    "# 02 Exploratory Data Analysis"
   ]
  },
  {
   "cell_type": "markdown",
   "id": "1bf3bd9c",
   "metadata": {},
   "source": [
    "## 2.1 Imports"
   ]
  },
  {
   "cell_type": "code",
   "execution_count": 1,
   "id": "e85cc0df",
   "metadata": {},
   "outputs": [],
   "source": [
    "#Importing necessary libraries\n",
    "import pandas as pd\n",
    "import matplotlib.pyplot as plt\n",
    "import seaborn as sns"
   ]
  },
  {
   "cell_type": "code",
   "execution_count": 2,
   "id": "4c1795fe",
   "metadata": {
    "scrolled": false
   },
   "outputs": [
    {
     "data": {
      "text/html": [
       "<div>\n",
       "<style scoped>\n",
       "    .dataframe tbody tr th:only-of-type {\n",
       "        vertical-align: middle;\n",
       "    }\n",
       "\n",
       "    .dataframe tbody tr th {\n",
       "        vertical-align: top;\n",
       "    }\n",
       "\n",
       "    .dataframe thead th {\n",
       "        text-align: right;\n",
       "    }\n",
       "</style>\n",
       "<table border=\"1\" class=\"dataframe\">\n",
       "  <thead>\n",
       "    <tr style=\"text-align: right;\">\n",
       "      <th></th>\n",
       "      <th>Dates</th>\n",
       "      <th>Time</th>\n",
       "      <th>Open</th>\n",
       "      <th>High</th>\n",
       "      <th>Low</th>\n",
       "      <th>Adj Close</th>\n",
       "      <th>Volume</th>\n",
       "    </tr>\n",
       "  </thead>\n",
       "  <tbody>\n",
       "    <tr>\n",
       "      <th>0</th>\n",
       "      <td>2022-10-03</td>\n",
       "      <td>00:00:00</td>\n",
       "      <td>138.210007</td>\n",
       "      <td>143.070007</td>\n",
       "      <td>137.690002</td>\n",
       "      <td>142.214081</td>\n",
       "      <td>114311700</td>\n",
       "    </tr>\n",
       "    <tr>\n",
       "      <th>1</th>\n",
       "      <td>2022-10-04</td>\n",
       "      <td>00:00:00</td>\n",
       "      <td>145.029999</td>\n",
       "      <td>146.220001</td>\n",
       "      <td>144.259995</td>\n",
       "      <td>145.858047</td>\n",
       "      <td>87830100</td>\n",
       "    </tr>\n",
       "    <tr>\n",
       "      <th>2</th>\n",
       "      <td>2022-10-05</td>\n",
       "      <td>00:00:00</td>\n",
       "      <td>144.070007</td>\n",
       "      <td>147.380005</td>\n",
       "      <td>143.009995</td>\n",
       "      <td>146.157532</td>\n",
       "      <td>79471000</td>\n",
       "    </tr>\n",
       "    <tr>\n",
       "      <th>3</th>\n",
       "      <td>2022-10-06</td>\n",
       "      <td>00:00:00</td>\n",
       "      <td>145.809998</td>\n",
       "      <td>147.539993</td>\n",
       "      <td>145.220001</td>\n",
       "      <td>145.189148</td>\n",
       "      <td>68402200</td>\n",
       "    </tr>\n",
       "    <tr>\n",
       "      <th>4</th>\n",
       "      <td>2022-10-07</td>\n",
       "      <td>00:00:00</td>\n",
       "      <td>142.539993</td>\n",
       "      <td>143.100006</td>\n",
       "      <td>139.449997</td>\n",
       "      <td>139.857986</td>\n",
       "      <td>85925600</td>\n",
       "    </tr>\n",
       "  </tbody>\n",
       "</table>\n",
       "</div>"
      ],
      "text/plain": [
       "        Dates      Time        Open        High         Low   Adj Close  \\\n",
       "0  2022-10-03  00:00:00  138.210007  143.070007  137.690002  142.214081   \n",
       "1  2022-10-04  00:00:00  145.029999  146.220001  144.259995  145.858047   \n",
       "2  2022-10-05  00:00:00  144.070007  147.380005  143.009995  146.157532   \n",
       "3  2022-10-06  00:00:00  145.809998  147.539993  145.220001  145.189148   \n",
       "4  2022-10-07  00:00:00  142.539993  143.100006  139.449997  139.857986   \n",
       "\n",
       "      Volume  \n",
       "0  114311700  \n",
       "1   87830100  \n",
       "2   79471000  \n",
       "3   68402200  \n",
       "4   85925600  "
      ]
     },
     "execution_count": 2,
     "metadata": {},
     "output_type": "execute_result"
    }
   ],
   "source": [
    "#Importing stock price YTD\n",
    "stock_data = pd.read_csv('/Users/user/Documents/Springboard_Data_Science/Capstone_2_Twitter_Sentiment_Analysis/Data/stock_data.csv', encoding='latin-1')\n",
    "stock_data = stock_data.drop(['Close'], axis=1)\n",
    "stock_data.head()"
   ]
  },
  {
   "cell_type": "markdown",
   "id": "1564abe3",
   "metadata": {},
   "source": [
    "## 2.2 EDA on Stock Data"
   ]
  },
  {
   "cell_type": "code",
   "execution_count": 3,
   "id": "3105e527",
   "metadata": {
    "scrolled": true
   },
   "outputs": [
    {
     "data": {
      "text/html": [
       "<div>\n",
       "<style scoped>\n",
       "    .dataframe tbody tr th:only-of-type {\n",
       "        vertical-align: middle;\n",
       "    }\n",
       "\n",
       "    .dataframe tbody tr th {\n",
       "        vertical-align: top;\n",
       "    }\n",
       "\n",
       "    .dataframe thead th {\n",
       "        text-align: right;\n",
       "    }\n",
       "</style>\n",
       "<table border=\"1\" class=\"dataframe\">\n",
       "  <thead>\n",
       "    <tr style=\"text-align: right;\">\n",
       "      <th></th>\n",
       "      <th>Open</th>\n",
       "      <th>High</th>\n",
       "      <th>Low</th>\n",
       "      <th>Adj Close</th>\n",
       "      <th>Volume</th>\n",
       "    </tr>\n",
       "  </thead>\n",
       "  <tbody>\n",
       "    <tr>\n",
       "      <th>count</th>\n",
       "      <td>20.000000</td>\n",
       "      <td>20.000000</td>\n",
       "      <td>20.000000</td>\n",
       "      <td>20.000000</td>\n",
       "      <td>2.000000e+01</td>\n",
       "    </tr>\n",
       "    <tr>\n",
       "      <th>mean</th>\n",
       "      <td>143.653001</td>\n",
       "      <td>146.428501</td>\n",
       "      <td>142.008500</td>\n",
       "      <td>144.357530</td>\n",
       "      <td>8.850982e+07</td>\n",
       "    </tr>\n",
       "    <tr>\n",
       "      <th>std</th>\n",
       "      <td>4.107105</td>\n",
       "      <td>4.280018</td>\n",
       "      <td>4.014353</td>\n",
       "      <td>4.611861</td>\n",
       "      <td>2.341888e+07</td>\n",
       "    </tr>\n",
       "    <tr>\n",
       "      <th>min</th>\n",
       "      <td>134.990005</td>\n",
       "      <td>140.360001</td>\n",
       "      <td>134.369995</td>\n",
       "      <td>138.110886</td>\n",
       "      <td>6.175830e+07</td>\n",
       "    </tr>\n",
       "    <tr>\n",
       "      <th>25%</th>\n",
       "      <td>140.907505</td>\n",
       "      <td>143.092506</td>\n",
       "      <td>138.482506</td>\n",
       "      <td>141.677483</td>\n",
       "      <td>7.485732e+07</td>\n",
       "    </tr>\n",
       "    <tr>\n",
       "      <th>50%</th>\n",
       "      <td>143.545006</td>\n",
       "      <td>146.055000</td>\n",
       "      <td>142.074997</td>\n",
       "      <td>143.566841</td>\n",
       "      <td>8.558825e+07</td>\n",
       "    </tr>\n",
       "    <tr>\n",
       "      <th>75%</th>\n",
       "      <td>146.154999</td>\n",
       "      <td>148.150005</td>\n",
       "      <td>144.499996</td>\n",
       "      <td>146.374676</td>\n",
       "      <td>9.123265e+07</td>\n",
       "    </tr>\n",
       "    <tr>\n",
       "      <th>max</th>\n",
       "      <td>150.960007</td>\n",
       "      <td>157.500000</td>\n",
       "      <td>149.360001</td>\n",
       "      <td>155.482086</td>\n",
       "      <td>1.647624e+08</td>\n",
       "    </tr>\n",
       "  </tbody>\n",
       "</table>\n",
       "</div>"
      ],
      "text/plain": [
       "             Open        High         Low   Adj Close        Volume\n",
       "count   20.000000   20.000000   20.000000   20.000000  2.000000e+01\n",
       "mean   143.653001  146.428501  142.008500  144.357530  8.850982e+07\n",
       "std      4.107105    4.280018    4.014353    4.611861  2.341888e+07\n",
       "min    134.990005  140.360001  134.369995  138.110886  6.175830e+07\n",
       "25%    140.907505  143.092506  138.482506  141.677483  7.485732e+07\n",
       "50%    143.545006  146.055000  142.074997  143.566841  8.558825e+07\n",
       "75%    146.154999  148.150005  144.499996  146.374676  9.123265e+07\n",
       "max    150.960007  157.500000  149.360001  155.482086  1.647624e+08"
      ]
     },
     "execution_count": 3,
     "metadata": {},
     "output_type": "execute_result"
    }
   ],
   "source": [
    "#Before we dive into further manipulation, let's look at the statistics in stock_data & the heat map\n",
    "#because it can get really messy later on when we add in more columns\n",
    "stock_data.describe()"
   ]
  },
  {
   "cell_type": "markdown",
   "id": "deba2369",
   "metadata": {},
   "source": [
    "Heatmap – A heatmap is a 2d representation of data that tells how much a variable is correlated to other variables. It contains values from -1 to 1. Suppose two variables x and y. Let us see the possible causes.\n",
    "\n",
    "When the correlation between x and y is -1, that means x has a negative correlation with y. It simply means when the value of x increases, the value of y would decrease. The more the value is close to -1, the more will be the negative correlation. \n",
    "\n",
    "When the correlation between x and y is 0. It means that x and y have no correlation and are independent.\n",
    "\n",
    "When the correlation between x and y is 1, that means x has a positive correlation with y. Or simply, we can say whenever x increases, y increases too."
   ]
  },
  {
   "cell_type": "code",
   "execution_count": 4,
   "id": "53c45a2c",
   "metadata": {},
   "outputs": [
    {
     "data": {
      "text/plain": [
       "<AxesSubplot:>"
      ]
     },
     "execution_count": 4,
     "metadata": {},
     "output_type": "execute_result"
    },
    {
     "data": {
      "image/png": "[encoded data removed]",
      "text/plain": [
       "<Figure size 700x500 with 2 Axes>"
      ]
     },
     "metadata": {},
     "output_type": "display_data"
    }
   ],
   "source": [
    "plt.figure(figsize=(7,5))\n",
    "sns.heatmap(stock_data.corr(),cmap='Blues',annot=True)"
   ]
  },
  {
   "cell_type": "markdown",
   "id": "32a88d9a",
   "metadata": {},
   "source": [
    "From the above heatmap, you can see a large number of 1s and values close to 1. This means those variables show high positive correlations and are interrelated. This might be possible because of the comparatively very small difference between those values. However, in-stock market this small value is what makes the difference. So, what we are going to do, is add new variables to our dataset that represents the difference between those values"
   ]
  },
  {
   "cell_type": "markdown",
   "id": "76497535",
   "metadata": {},
   "source": [
    "### 2.2.1 Stock Price Data Manipulation"
   ]
  },
  {
   "cell_type": "markdown",
   "id": "63899b03",
   "metadata": {},
   "source": [
    "In the following cells, we will examine the change in price between a given date and its next day's pricing (one period into the future) using the function .shift(). For example, \"shifted_Open\" implicates the next day's opening price for current date. From there, we will be able to find the percentage change of AAPL opening price."
   ]
  },
  {
   "cell_type": "code",
   "execution_count": 5,
   "id": "00fdd802",
   "metadata": {},
   "outputs": [
    {
     "data": {
      "text/html": [
       "<div>\n",
       "<style scoped>\n",
       "    .dataframe tbody tr th:only-of-type {\n",
       "        vertical-align: middle;\n",
       "    }\n",
       "\n",
       "    .dataframe tbody tr th {\n",
       "        vertical-align: top;\n",
       "    }\n",
       "\n",
       "    .dataframe thead th {\n",
       "        text-align: right;\n",
       "    }\n",
       "</style>\n",
       "<table border=\"1\" class=\"dataframe\">\n",
       "  <thead>\n",
       "    <tr style=\"text-align: right;\">\n",
       "      <th></th>\n",
       "      <th>Dates</th>\n",
       "      <th>Time</th>\n",
       "      <th>Open</th>\n",
       "      <th>High</th>\n",
       "      <th>Low</th>\n",
       "      <th>Adj Close</th>\n",
       "      <th>Volume</th>\n",
       "      <th>shifted_Open</th>\n",
       "      <th>shifted_High</th>\n",
       "      <th>shifted_Low</th>\n",
       "      <th>shifted_Close</th>\n",
       "      <th>shifted_Volume</th>\n",
       "    </tr>\n",
       "  </thead>\n",
       "  <tbody>\n",
       "    <tr>\n",
       "      <th>0</th>\n",
       "      <td>2022-10-03</td>\n",
       "      <td>00:00:00</td>\n",
       "      <td>138.210007</td>\n",
       "      <td>143.070007</td>\n",
       "      <td>137.690002</td>\n",
       "      <td>142.214081</td>\n",
       "      <td>114311700</td>\n",
       "      <td>NaN</td>\n",
       "      <td>NaN</td>\n",
       "      <td>NaN</td>\n",
       "      <td>NaN</td>\n",
       "      <td>NaN</td>\n",
       "    </tr>\n",
       "    <tr>\n",
       "      <th>1</th>\n",
       "      <td>2022-10-04</td>\n",
       "      <td>00:00:00</td>\n",
       "      <td>145.029999</td>\n",
       "      <td>146.220001</td>\n",
       "      <td>144.259995</td>\n",
       "      <td>145.858047</td>\n",
       "      <td>87830100</td>\n",
       "      <td>138.210007</td>\n",
       "      <td>143.070007</td>\n",
       "      <td>137.690002</td>\n",
       "      <td>142.214081</td>\n",
       "      <td>114311700.0</td>\n",
       "    </tr>\n",
       "    <tr>\n",
       "      <th>2</th>\n",
       "      <td>2022-10-05</td>\n",
       "      <td>00:00:00</td>\n",
       "      <td>144.070007</td>\n",
       "      <td>147.380005</td>\n",
       "      <td>143.009995</td>\n",
       "      <td>146.157532</td>\n",
       "      <td>79471000</td>\n",
       "      <td>145.029999</td>\n",
       "      <td>146.220001</td>\n",
       "      <td>144.259995</td>\n",
       "      <td>145.858047</td>\n",
       "      <td>87830100.0</td>\n",
       "    </tr>\n",
       "    <tr>\n",
       "      <th>3</th>\n",
       "      <td>2022-10-06</td>\n",
       "      <td>00:00:00</td>\n",
       "      <td>145.809998</td>\n",
       "      <td>147.539993</td>\n",
       "      <td>145.220001</td>\n",
       "      <td>145.189148</td>\n",
       "      <td>68402200</td>\n",
       "      <td>144.070007</td>\n",
       "      <td>147.380005</td>\n",
       "      <td>143.009995</td>\n",
       "      <td>146.157532</td>\n",
       "      <td>79471000.0</td>\n",
       "    </tr>\n",
       "    <tr>\n",
       "      <th>4</th>\n",
       "      <td>2022-10-07</td>\n",
       "      <td>00:00:00</td>\n",
       "      <td>142.539993</td>\n",
       "      <td>143.100006</td>\n",
       "      <td>139.449997</td>\n",
       "      <td>139.857986</td>\n",
       "      <td>85925600</td>\n",
       "      <td>145.809998</td>\n",
       "      <td>147.539993</td>\n",
       "      <td>145.220001</td>\n",
       "      <td>145.189148</td>\n",
       "      <td>68402200.0</td>\n",
       "    </tr>\n",
       "  </tbody>\n",
       "</table>\n",
       "</div>"
      ],
      "text/plain": [
       "        Dates      Time        Open        High         Low   Adj Close  \\\n",
       "0  2022-10-03  00:00:00  138.210007  143.070007  137.690002  142.214081   \n",
       "1  2022-10-04  00:00:00  145.029999  146.220001  144.259995  145.858047   \n",
       "2  2022-10-05  00:00:00  144.070007  147.380005  143.009995  146.157532   \n",
       "3  2022-10-06  00:00:00  145.809998  147.539993  145.220001  145.189148   \n",
       "4  2022-10-07  00:00:00  142.539993  143.100006  139.449997  139.857986   \n",
       "\n",
       "      Volume  shifted_Open  shifted_High  shifted_Low  shifted_Close  \\\n",
       "0  114311700           NaN           NaN          NaN            NaN   \n",
       "1   87830100    138.210007    143.070007   137.690002     142.214081   \n",
       "2   79471000    145.029999    146.220001   144.259995     145.858047   \n",
       "3   68402200    144.070007    147.380005   143.009995     146.157532   \n",
       "4   85925600    145.809998    147.539993   145.220001     145.189148   \n",
       "\n",
       "   shifted_Volume  \n",
       "0             NaN  \n",
       "1     114311700.0  \n",
       "2      87830100.0  \n",
       "3      79471000.0  \n",
       "4      68402200.0  "
      ]
     },
     "execution_count": 5,
     "metadata": {},
     "output_type": "execute_result"
    }
   ],
   "source": [
    "#Creating duplicate \n",
    "eda_stock_data = stock_data.copy()\n",
    "\n",
    "#Shifting Opening price\n",
    "eda_stock_data['shifted_Open'] = eda_stock_data.Open.shift()\n",
    "\n",
    "#Shifting High price\n",
    "eda_stock_data['shifted_High'] = eda_stock_data.High.shift()\n",
    "\n",
    "#Shifting Low price\n",
    "eda_stock_data['shifted_Low'] = eda_stock_data.Low.shift()\n",
    "\n",
    "#Shifting Adjusted closing price\n",
    "eda_stock_data['shifted_Close'] = eda_stock_data['Adj Close'].shift()\n",
    "\n",
    "#Shifting Volume\n",
    "eda_stock_data['shifted_Volume'] = eda_stock_data.Volume.shift()\n",
    "\n",
    "eda_stock_data.head()"
   ]
  },
  {
   "cell_type": "markdown",
   "id": "b51b77a8",
   "metadata": {},
   "source": [
    "After we have found the shifted price, we can find the difference in values for those features (x - x(n-1))"
   ]
  },
  {
   "cell_type": "code",
   "execution_count": 6,
   "id": "039f7ef2",
   "metadata": {},
   "outputs": [
    {
     "data": {
      "text/html": [
       "<div>\n",
       "<style scoped>\n",
       "    .dataframe tbody tr th:only-of-type {\n",
       "        vertical-align: middle;\n",
       "    }\n",
       "\n",
       "    .dataframe tbody tr th {\n",
       "        vertical-align: top;\n",
       "    }\n",
       "\n",
       "    .dataframe thead th {\n",
       "        text-align: right;\n",
       "    }\n",
       "</style>\n",
       "<table border=\"1\" class=\"dataframe\">\n",
       "  <thead>\n",
       "    <tr style=\"text-align: right;\">\n",
       "      <th></th>\n",
       "      <th>Dates</th>\n",
       "      <th>Time</th>\n",
       "      <th>Open</th>\n",
       "      <th>High</th>\n",
       "      <th>Low</th>\n",
       "      <th>Adj Close</th>\n",
       "      <th>Volume</th>\n",
       "      <th>shifted_Open</th>\n",
       "      <th>shifted_High</th>\n",
       "      <th>shifted_Low</th>\n",
       "      <th>shifted_Close</th>\n",
       "      <th>shifted_Volume</th>\n",
       "      <th>values_change_Open</th>\n",
       "      <th>values_change_High</th>\n",
       "      <th>values_change_Low</th>\n",
       "      <th>values_change_Close</th>\n",
       "      <th>values_change_Volume</th>\n",
       "    </tr>\n",
       "  </thead>\n",
       "  <tbody>\n",
       "    <tr>\n",
       "      <th>0</th>\n",
       "      <td>2022-10-03</td>\n",
       "      <td>00:00:00</td>\n",
       "      <td>138.210007</td>\n",
       "      <td>143.070007</td>\n",
       "      <td>137.690002</td>\n",
       "      <td>142.214081</td>\n",
       "      <td>114311700</td>\n",
       "      <td>NaN</td>\n",
       "      <td>NaN</td>\n",
       "      <td>NaN</td>\n",
       "      <td>NaN</td>\n",
       "      <td>NaN</td>\n",
       "      <td>NaN</td>\n",
       "      <td>NaN</td>\n",
       "      <td>NaN</td>\n",
       "      <td>NaN</td>\n",
       "      <td>NaN</td>\n",
       "    </tr>\n",
       "    <tr>\n",
       "      <th>1</th>\n",
       "      <td>2022-10-04</td>\n",
       "      <td>00:00:00</td>\n",
       "      <td>145.029999</td>\n",
       "      <td>146.220001</td>\n",
       "      <td>144.259995</td>\n",
       "      <td>145.858047</td>\n",
       "      <td>87830100</td>\n",
       "      <td>138.210007</td>\n",
       "      <td>143.070007</td>\n",
       "      <td>137.690002</td>\n",
       "      <td>142.214081</td>\n",
       "      <td>114311700.0</td>\n",
       "      <td>6.819992</td>\n",
       "      <td>3.149994</td>\n",
       "      <td>6.569992</td>\n",
       "      <td>3.643967</td>\n",
       "      <td>-26481600.0</td>\n",
       "    </tr>\n",
       "    <tr>\n",
       "      <th>2</th>\n",
       "      <td>2022-10-05</td>\n",
       "      <td>00:00:00</td>\n",
       "      <td>144.070007</td>\n",
       "      <td>147.380005</td>\n",
       "      <td>143.009995</td>\n",
       "      <td>146.157532</td>\n",
       "      <td>79471000</td>\n",
       "      <td>145.029999</td>\n",
       "      <td>146.220001</td>\n",
       "      <td>144.259995</td>\n",
       "      <td>145.858047</td>\n",
       "      <td>87830100.0</td>\n",
       "      <td>-0.959991</td>\n",
       "      <td>1.160004</td>\n",
       "      <td>-1.250000</td>\n",
       "      <td>0.299484</td>\n",
       "      <td>-8359100.0</td>\n",
       "    </tr>\n",
       "    <tr>\n",
       "      <th>3</th>\n",
       "      <td>2022-10-06</td>\n",
       "      <td>00:00:00</td>\n",
       "      <td>145.809998</td>\n",
       "      <td>147.539993</td>\n",
       "      <td>145.220001</td>\n",
       "      <td>145.189148</td>\n",
       "      <td>68402200</td>\n",
       "      <td>144.070007</td>\n",
       "      <td>147.380005</td>\n",
       "      <td>143.009995</td>\n",
       "      <td>146.157532</td>\n",
       "      <td>79471000.0</td>\n",
       "      <td>1.739990</td>\n",
       "      <td>0.159988</td>\n",
       "      <td>2.210007</td>\n",
       "      <td>-0.968384</td>\n",
       "      <td>-11068800.0</td>\n",
       "    </tr>\n",
       "    <tr>\n",
       "      <th>4</th>\n",
       "      <td>2022-10-07</td>\n",
       "      <td>00:00:00</td>\n",
       "      <td>142.539993</td>\n",
       "      <td>143.100006</td>\n",
       "      <td>139.449997</td>\n",
       "      <td>139.857986</td>\n",
       "      <td>85925600</td>\n",
       "      <td>145.809998</td>\n",
       "      <td>147.539993</td>\n",
       "      <td>145.220001</td>\n",
       "      <td>145.189148</td>\n",
       "      <td>68402200.0</td>\n",
       "      <td>-3.270004</td>\n",
       "      <td>-4.439987</td>\n",
       "      <td>-5.770004</td>\n",
       "      <td>-5.331161</td>\n",
       "      <td>17523400.0</td>\n",
       "    </tr>\n",
       "  </tbody>\n",
       "</table>\n",
       "</div>"
      ],
      "text/plain": [
       "        Dates      Time        Open        High         Low   Adj Close  \\\n",
       "0  2022-10-03  00:00:00  138.210007  143.070007  137.690002  142.214081   \n",
       "1  2022-10-04  00:00:00  145.029999  146.220001  144.259995  145.858047   \n",
       "2  2022-10-05  00:00:00  144.070007  147.380005  143.009995  146.157532   \n",
       "3  2022-10-06  00:00:00  145.809998  147.539993  145.220001  145.189148   \n",
       "4  2022-10-07  00:00:00  142.539993  143.100006  139.449997  139.857986   \n",
       "\n",
       "      Volume  shifted_Open  shifted_High  shifted_Low  shifted_Close  \\\n",
       "0  114311700           NaN           NaN          NaN            NaN   \n",
       "1   87830100    138.210007    143.070007   137.690002     142.214081   \n",
       "2   79471000    145.029999    146.220001   144.259995     145.858047   \n",
       "3   68402200    144.070007    147.380005   143.009995     146.157532   \n",
       "4   85925600    145.809998    147.539993   145.220001     145.189148   \n",
       "\n",
       "   shifted_Volume  values_change_Open  values_change_High  values_change_Low  \\\n",
       "0             NaN                 NaN                 NaN                NaN   \n",
       "1     114311700.0            6.819992            3.149994           6.569992   \n",
       "2      87830100.0           -0.959991            1.160004          -1.250000   \n",
       "3      79471000.0            1.739990            0.159988           2.210007   \n",
       "4      68402200.0           -3.270004           -4.439987          -5.770004   \n",
       "\n",
       "   values_change_Close  values_change_Volume  \n",
       "0                  NaN                   NaN  \n",
       "1             3.643967           -26481600.0  \n",
       "2             0.299484            -8359100.0  \n",
       "3            -0.968384           -11068800.0  \n",
       "4            -5.331161            17523400.0  "
      ]
     },
     "execution_count": 6,
     "metadata": {},
     "output_type": "execute_result"
    }
   ],
   "source": [
    "#Difference in values for Opening price\n",
    "eda_stock_data['values_change_Open'] = eda_stock_data.Open.diff()\n",
    "\n",
    "#Difference in values for High price\n",
    "eda_stock_data['values_change_High'] = eda_stock_data.High.diff()\n",
    "\n",
    "#Difference in values for Low price\n",
    "eda_stock_data['values_change_Low'] = eda_stock_data.Low.diff()\n",
    "\n",
    "#Difference in values for Adjusted closing price\n",
    "eda_stock_data['values_change_Close'] = eda_stock_data['Adj Close'].diff()\n",
    "\n",
    "#Difference in values for Volume\n",
    "eda_stock_data['values_change_Volume'] = eda_stock_data.Volume.diff()\n",
    "\n",
    "eda_stock_data.head()"
   ]
  },
  {
   "cell_type": "markdown",
   "id": "9e193e12",
   "metadata": {},
   "source": [
    "Now that we have the difference in values from one period to another, we can calculate one period return"
   ]
  },
  {
   "cell_type": "code",
   "execution_count": 7,
   "id": "a4798555",
   "metadata": {},
   "outputs": [
    {
     "data": {
      "text/html": [
       "<div>\n",
       "<style scoped>\n",
       "    .dataframe tbody tr th:only-of-type {\n",
       "        vertical-align: middle;\n",
       "    }\n",
       "\n",
       "    .dataframe tbody tr th {\n",
       "        vertical-align: top;\n",
       "    }\n",
       "\n",
       "    .dataframe thead th {\n",
       "        text-align: right;\n",
       "    }\n",
       "</style>\n",
       "<table border=\"1\" class=\"dataframe\">\n",
       "  <thead>\n",
       "    <tr style=\"text-align: right;\">\n",
       "      <th></th>\n",
       "      <th>Dates</th>\n",
       "      <th>Time</th>\n",
       "      <th>Open</th>\n",
       "      <th>High</th>\n",
       "      <th>Low</th>\n",
       "      <th>Adj Close</th>\n",
       "      <th>Volume</th>\n",
       "      <th>shifted_Open</th>\n",
       "      <th>shifted_High</th>\n",
       "      <th>shifted_Low</th>\n",
       "      <th>...</th>\n",
       "      <th>values_change_Open</th>\n",
       "      <th>values_change_High</th>\n",
       "      <th>values_change_Low</th>\n",
       "      <th>values_change_Close</th>\n",
       "      <th>values_change_Volume</th>\n",
       "      <th>%_change_Open</th>\n",
       "      <th>%_change_High</th>\n",
       "      <th>%_change_Low</th>\n",
       "      <th>%_change_Close</th>\n",
       "      <th>%_change_Volume</th>\n",
       "    </tr>\n",
       "  </thead>\n",
       "  <tbody>\n",
       "    <tr>\n",
       "      <th>0</th>\n",
       "      <td>2022-10-03</td>\n",
       "      <td>00:00:00</td>\n",
       "      <td>138.210007</td>\n",
       "      <td>143.070007</td>\n",
       "      <td>137.690002</td>\n",
       "      <td>142.214081</td>\n",
       "      <td>114311700</td>\n",
       "      <td>NaN</td>\n",
       "      <td>NaN</td>\n",
       "      <td>NaN</td>\n",
       "      <td>...</td>\n",
       "      <td>NaN</td>\n",
       "      <td>NaN</td>\n",
       "      <td>NaN</td>\n",
       "      <td>NaN</td>\n",
       "      <td>NaN</td>\n",
       "      <td>NaN</td>\n",
       "      <td>NaN</td>\n",
       "      <td>NaN</td>\n",
       "      <td>NaN</td>\n",
       "      <td>NaN</td>\n",
       "    </tr>\n",
       "    <tr>\n",
       "      <th>1</th>\n",
       "      <td>2022-10-04</td>\n",
       "      <td>00:00:00</td>\n",
       "      <td>145.029999</td>\n",
       "      <td>146.220001</td>\n",
       "      <td>144.259995</td>\n",
       "      <td>145.858047</td>\n",
       "      <td>87830100</td>\n",
       "      <td>138.210007</td>\n",
       "      <td>143.070007</td>\n",
       "      <td>137.690002</td>\n",
       "      <td>...</td>\n",
       "      <td>6.819992</td>\n",
       "      <td>3.149994</td>\n",
       "      <td>6.569992</td>\n",
       "      <td>3.643967</td>\n",
       "      <td>-26481600.0</td>\n",
       "      <td>4.934514</td>\n",
       "      <td>2.201715</td>\n",
       "      <td>4.771583</td>\n",
       "      <td>2.562311</td>\n",
       "      <td>-23.166133</td>\n",
       "    </tr>\n",
       "    <tr>\n",
       "      <th>2</th>\n",
       "      <td>2022-10-05</td>\n",
       "      <td>00:00:00</td>\n",
       "      <td>144.070007</td>\n",
       "      <td>147.380005</td>\n",
       "      <td>143.009995</td>\n",
       "      <td>146.157532</td>\n",
       "      <td>79471000</td>\n",
       "      <td>145.029999</td>\n",
       "      <td>146.220001</td>\n",
       "      <td>144.259995</td>\n",
       "      <td>...</td>\n",
       "      <td>-0.959991</td>\n",
       "      <td>1.160004</td>\n",
       "      <td>-1.250000</td>\n",
       "      <td>0.299484</td>\n",
       "      <td>-8359100.0</td>\n",
       "      <td>-0.661926</td>\n",
       "      <td>0.793328</td>\n",
       "      <td>-0.866491</td>\n",
       "      <td>0.205326</td>\n",
       "      <td>-9.517352</td>\n",
       "    </tr>\n",
       "    <tr>\n",
       "      <th>3</th>\n",
       "      <td>2022-10-06</td>\n",
       "      <td>00:00:00</td>\n",
       "      <td>145.809998</td>\n",
       "      <td>147.539993</td>\n",
       "      <td>145.220001</td>\n",
       "      <td>145.189148</td>\n",
       "      <td>68402200</td>\n",
       "      <td>144.070007</td>\n",
       "      <td>147.380005</td>\n",
       "      <td>143.009995</td>\n",
       "      <td>...</td>\n",
       "      <td>1.739990</td>\n",
       "      <td>0.159988</td>\n",
       "      <td>2.210007</td>\n",
       "      <td>-0.968384</td>\n",
       "      <td>-11068800.0</td>\n",
       "      <td>1.207739</td>\n",
       "      <td>0.108555</td>\n",
       "      <td>1.545351</td>\n",
       "      <td>-0.662562</td>\n",
       "      <td>-13.928100</td>\n",
       "    </tr>\n",
       "    <tr>\n",
       "      <th>4</th>\n",
       "      <td>2022-10-07</td>\n",
       "      <td>00:00:00</td>\n",
       "      <td>142.539993</td>\n",
       "      <td>143.100006</td>\n",
       "      <td>139.449997</td>\n",
       "      <td>139.857986</td>\n",
       "      <td>85925600</td>\n",
       "      <td>145.809998</td>\n",
       "      <td>147.539993</td>\n",
       "      <td>145.220001</td>\n",
       "      <td>...</td>\n",
       "      <td>-3.270004</td>\n",
       "      <td>-4.439987</td>\n",
       "      <td>-5.770004</td>\n",
       "      <td>-5.331161</td>\n",
       "      <td>17523400.0</td>\n",
       "      <td>-2.242648</td>\n",
       "      <td>-3.009345</td>\n",
       "      <td>-3.973285</td>\n",
       "      <td>-3.671873</td>\n",
       "      <td>25.618182</td>\n",
       "    </tr>\n",
       "  </tbody>\n",
       "</table>\n",
       "<p>5 rows × 22 columns</p>\n",
       "</div>"
      ],
      "text/plain": [
       "        Dates      Time        Open        High         Low   Adj Close  \\\n",
       "0  2022-10-03  00:00:00  138.210007  143.070007  137.690002  142.214081   \n",
       "1  2022-10-04  00:00:00  145.029999  146.220001  144.259995  145.858047   \n",
       "2  2022-10-05  00:00:00  144.070007  147.380005  143.009995  146.157532   \n",
       "3  2022-10-06  00:00:00  145.809998  147.539993  145.220001  145.189148   \n",
       "4  2022-10-07  00:00:00  142.539993  143.100006  139.449997  139.857986   \n",
       "\n",
       "      Volume  shifted_Open  shifted_High  shifted_Low  ...  \\\n",
       "0  114311700           NaN           NaN          NaN  ...   \n",
       "1   87830100    138.210007    143.070007   137.690002  ...   \n",
       "2   79471000    145.029999    146.220001   144.259995  ...   \n",
       "3   68402200    144.070007    147.380005   143.009995  ...   \n",
       "4   85925600    145.809998    147.539993   145.220001  ...   \n",
       "\n",
       "   values_change_Open  values_change_High  values_change_Low  \\\n",
       "0                 NaN                 NaN                NaN   \n",
       "1            6.819992            3.149994           6.569992   \n",
       "2           -0.959991            1.160004          -1.250000   \n",
       "3            1.739990            0.159988           2.210007   \n",
       "4           -3.270004           -4.439987          -5.770004   \n",
       "\n",
       "   values_change_Close  values_change_Volume  %_change_Open  %_change_High  \\\n",
       "0                  NaN                   NaN            NaN            NaN   \n",
       "1             3.643967           -26481600.0       4.934514       2.201715   \n",
       "2             0.299484            -8359100.0      -0.661926       0.793328   \n",
       "3            -0.968384           -11068800.0       1.207739       0.108555   \n",
       "4            -5.331161            17523400.0      -2.242648      -3.009345   \n",
       "\n",
       "   %_change_Low  %_change_Close  %_change_Volume  \n",
       "0           NaN             NaN              NaN  \n",
       "1      4.771583        2.562311       -23.166133  \n",
       "2     -0.866491        0.205326        -9.517352  \n",
       "3      1.545351       -0.662562       -13.928100  \n",
       "4     -3.973285       -3.671873        25.618182  \n",
       "\n",
       "[5 rows x 22 columns]"
      ]
     },
     "execution_count": 7,
     "metadata": {},
     "output_type": "execute_result"
    }
   ],
   "source": [
    "#Percentage change for Opening price\n",
    "eda_stock_data['%_change_Open'] = eda_stock_data.Open.pct_change().mul(100)\n",
    "\n",
    "#Percentage change for High price\n",
    "eda_stock_data['%_change_High'] = eda_stock_data.High.pct_change().mul(100)\n",
    "\n",
    "#Percentage change for Low price\n",
    "eda_stock_data['%_change_Low'] = eda_stock_data.Low.pct_change().mul(100)\n",
    "\n",
    "#Percentage change for Adjusted closing price\n",
    "eda_stock_data['%_change_Close'] = eda_stock_data['Adj Close'].pct_change().mul(100)\n",
    "\n",
    "#Percentage change for Volume\n",
    "eda_stock_data['%_change_Volume'] = eda_stock_data.Volume.pct_change().mul(100)\n",
    "\n",
    "eda_stock_data.head()"
   ]
  },
  {
   "cell_type": "markdown",
   "id": "ef75ba9a",
   "metadata": {},
   "source": [
    "We have added 15 new entries to our dataset. We can now create a heatmap with these new values and see their inter-correlation.\n",
    "\n",
    "From the previous heatmap, we could realize that the original fields (Open, High, Low, Adj. Close, & Volume) aren’t very useful. So for more clarity, we will drop some of those values and take only the significant values for creating the heatmap."
   ]
  },
  {
   "cell_type": "code",
   "execution_count": 8,
   "id": "43cafbb0",
   "metadata": {
    "scrolled": false
   },
   "outputs": [
    {
     "data": {
      "text/plain": [
       "<AxesSubplot:>"
      ]
     },
     "execution_count": 8,
     "metadata": {},
     "output_type": "execute_result"
    },
    {
     "data": {
      "image/png": "[encoded data removed]",
      "text/plain": [
       "<Figure size 1500x500 with 2 Axes>"
      ]
     },
     "metadata": {},
     "output_type": "display_data"
    }
   ],
   "source": [
    "eda_stock_data = eda_stock_data.drop(['Open','High','Low', 'Adj Close', \n",
    "                                      'shifted_Open', 'shifted_High', 'shifted_Low', 'shifted_Close',\n",
    "                                     'shifted_Volume', 'values_change_Open', 'values_change_High', \n",
    "                                      'values_change_Low', 'values_change_Close', 'values_change_Volume'],axis=1)\n",
    "plt.figure(figsize=(15,5))\n",
    "sns.heatmap(eda_stock_data.corr(),cmap='Blues',annot=True)"
   ]
  },
  {
   "cell_type": "markdown",
   "id": "19facf77",
   "metadata": {},
   "source": [
    "The main variable we are going to focus on in this dataset is the ‘Volume’. Variables having a large correlation value with volume represent that those numbers might have intrigued a large number of buyers and sellers. Correlation between those features and the volume feature will tell us how a change in that feature impacts the number of stocks traded that day.\n",
    "\n",
    "The %_change_Volume shows the most positive correlation with the volume feature. This means that the greater the difference between the volume of the stock today and the volume of the stock price of yesterday, the greater will be the stocks traded that day. As there is no information about the number of buyers and sellers, we can only guess that a high difference in volume might attract more buyers. Whereas a fewer difference may attract more sellers."
   ]
  },
  {
   "cell_type": "markdown",
   "id": "409ce59d",
   "metadata": {},
   "source": [
    "## 2.3 Exploratory Data Analysis on Tweets"
   ]
  },
  {
   "cell_type": "code",
   "execution_count": 9,
   "id": "f76d2dcb",
   "metadata": {},
   "outputs": [],
   "source": [
    "tweets_data = pd.read_csv('/Users/user/Documents/Springboard_Data_Science/Capstone_2_Twitter_Sentiment_Analysis/Data/tweets_data.csv')"
   ]
  },
  {
   "cell_type": "code",
   "execution_count": 10,
   "id": "020a4d38",
   "metadata": {
    "scrolled": true
   },
   "outputs": [
    {
     "data": {
      "text/html": [
       "<div>\n",
       "<style scoped>\n",
       "    .dataframe tbody tr th:only-of-type {\n",
       "        vertical-align: middle;\n",
       "    }\n",
       "\n",
       "    .dataframe tbody tr th {\n",
       "        vertical-align: top;\n",
       "    }\n",
       "\n",
       "    .dataframe thead th {\n",
       "        text-align: right;\n",
       "    }\n",
       "</style>\n",
       "<table border=\"1\" class=\"dataframe\">\n",
       "  <thead>\n",
       "    <tr style=\"text-align: right;\">\n",
       "      <th></th>\n",
       "      <th>Dates</th>\n",
       "      <th>Time</th>\n",
       "      <th>user</th>\n",
       "      <th>likes</th>\n",
       "      <th>source</th>\n",
       "      <th>text</th>\n",
       "      <th>Subjectivity</th>\n",
       "      <th>Polarity</th>\n",
       "      <th>Analysis</th>\n",
       "    </tr>\n",
       "  </thead>\n",
       "  <tbody>\n",
       "    <tr>\n",
       "      <th>0</th>\n",
       "      <td>2022-10-30</td>\n",
       "      <td>23:59:36</td>\n",
       "      <td>Keanu5004</td>\n",
       "      <td>0</td>\n",
       "      <td>Twitter Web App</td>\n",
       "      <td>free stock trading discord:https://t.co/txystf...</td>\n",
       "      <td>0.800000</td>\n",
       "      <td>0.4</td>\n",
       "      <td>Positive</td>\n",
       "    </tr>\n",
       "    <tr>\n",
       "      <th>1</th>\n",
       "      <td>2022-10-30</td>\n",
       "      <td>23:59:22</td>\n",
       "      <td>5ccollective</td>\n",
       "      <td>0</td>\n",
       "      <td>Twitter for iPhone</td>\n",
       "      <td>@aravosis @elonmusk @unilever @apple @cocacola...</td>\n",
       "      <td>0.285714</td>\n",
       "      <td>0.0</td>\n",
       "      <td>Neutral</td>\n",
       "    </tr>\n",
       "    <tr>\n",
       "      <th>2</th>\n",
       "      <td>2022-10-30</td>\n",
       "      <td>23:59:18</td>\n",
       "      <td>optionsful</td>\n",
       "      <td>0</td>\n",
       "      <td>Twitter Web App</td>\n",
       "      <td>$rblx nice move last week. now watch for some ...</td>\n",
       "      <td>0.388889</td>\n",
       "      <td>0.2</td>\n",
       "      <td>Positive</td>\n",
       "    </tr>\n",
       "    <tr>\n",
       "      <th>3</th>\n",
       "      <td>2022-10-30</td>\n",
       "      <td>23:58:58</td>\n",
       "      <td>Keanu5004</td>\n",
       "      <td>0</td>\n",
       "      <td>Twitter Web App</td>\n",
       "      <td>📌discord https://t.co/txystf24p2\\n\\nbest stock...</td>\n",
       "      <td>0.150000</td>\n",
       "      <td>0.5</td>\n",
       "      <td>Positive</td>\n",
       "    </tr>\n",
       "    <tr>\n",
       "      <th>4</th>\n",
       "      <td>2022-10-30</td>\n",
       "      <td>23:58:28</td>\n",
       "      <td>jongovi</td>\n",
       "      <td>0</td>\n",
       "      <td>Twitter for iPhone</td>\n",
       "      <td>@markhertling + we need to pressure the behemo...</td>\n",
       "      <td>0.000000</td>\n",
       "      <td>0.0</td>\n",
       "      <td>Neutral</td>\n",
       "    </tr>\n",
       "  </tbody>\n",
       "</table>\n",
       "</div>"
      ],
      "text/plain": [
       "        Dates      Time          user likes              source  \\\n",
       "0  2022-10-30  23:59:36     Keanu5004     0     Twitter Web App   \n",
       "1  2022-10-30  23:59:22  5ccollective     0  Twitter for iPhone   \n",
       "2  2022-10-30  23:59:18    optionsful     0     Twitter Web App   \n",
       "3  2022-10-30  23:58:58     Keanu5004     0     Twitter Web App   \n",
       "4  2022-10-30  23:58:28       jongovi     0  Twitter for iPhone   \n",
       "\n",
       "                                                text  Subjectivity  Polarity  \\\n",
       "0  free stock trading discord:https://t.co/txystf...      0.800000       0.4   \n",
       "1  @aravosis @elonmusk @unilever @apple @cocacola...      0.285714       0.0   \n",
       "2  $rblx nice move last week. now watch for some ...      0.388889       0.2   \n",
       "3  📌discord https://t.co/txystf24p2\\n\\nbest stock...      0.150000       0.5   \n",
       "4  @markhertling + we need to pressure the behemo...      0.000000       0.0   \n",
       "\n",
       "   Analysis  \n",
       "0  Positive  \n",
       "1   Neutral  \n",
       "2  Positive  \n",
       "3  Positive  \n",
       "4   Neutral  "
      ]
     },
     "execution_count": 10,
     "metadata": {},
     "output_type": "execute_result"
    }
   ],
   "source": [
    "tweets_data.head()"
   ]
  },
  {
   "cell_type": "code",
   "execution_count": 11,
   "id": "aa3ea00b",
   "metadata": {
    "scrolled": true
   },
   "outputs": [
    {
     "data": {
      "text/html": [
       "<div>\n",
       "<style scoped>\n",
       "    .dataframe tbody tr th:only-of-type {\n",
       "        vertical-align: middle;\n",
       "    }\n",
       "\n",
       "    .dataframe tbody tr th {\n",
       "        vertical-align: top;\n",
       "    }\n",
       "\n",
       "    .dataframe thead th {\n",
       "        text-align: right;\n",
       "    }\n",
       "</style>\n",
       "<table border=\"1\" class=\"dataframe\">\n",
       "  <thead>\n",
       "    <tr style=\"text-align: right;\">\n",
       "      <th></th>\n",
       "      <th>Dates</th>\n",
       "      <th>Time</th>\n",
       "      <th>user</th>\n",
       "      <th>likes</th>\n",
       "      <th>source</th>\n",
       "      <th>text</th>\n",
       "      <th>Subjectivity</th>\n",
       "      <th>Polarity</th>\n",
       "      <th>Analysis</th>\n",
       "    </tr>\n",
       "  </thead>\n",
       "  <tbody>\n",
       "    <tr>\n",
       "      <th>236</th>\n",
       "      <td>2022-10-30</td>\n",
       "      <td>23:11:57</td>\n",
       "      <td>topstonks</td>\n",
       "      <td>0</td>\n",
       "      <td>topstonks</td>\n",
       "      <td>$aapl one of the most mentioned on 4chan over ...</td>\n",
       "      <td>NaN</td>\n",
       "      <td>NaN</td>\n",
       "      <td>NaN</td>\n",
       "    </tr>\n",
       "    <tr>\n",
       "      <th>237</th>\n",
       "      <td>via https://t.co/doxfbxtxb4</td>\n",
       "      <td>NaN</td>\n",
       "      <td>NaN</td>\n",
       "      <td>NaN</td>\n",
       "      <td>NaN</td>\n",
       "      <td>NaN</td>\n",
       "      <td>NaN</td>\n",
       "      <td>NaN</td>\n",
       "      <td>NaN</td>\n",
       "    </tr>\n",
       "    <tr>\n",
       "      <th>238</th>\n",
       "      <td>#aapl    #4chan  #daytrading https://t.co/ra2f...</td>\n",
       "      <td>0.2833333333333333</td>\n",
       "      <td>0.25</td>\n",
       "      <td>Positive</td>\n",
       "      <td>NaN</td>\n",
       "      <td>NaN</td>\n",
       "      <td>NaN</td>\n",
       "      <td>NaN</td>\n",
       "      <td>NaN</td>\n",
       "    </tr>\n",
       "  </tbody>\n",
       "</table>\n",
       "</div>"
      ],
      "text/plain": [
       "                                                 Dates                Time  \\\n",
       "236                                         2022-10-30            23:11:57   \n",
       "237                        via https://t.co/doxfbxtxb4                 NaN   \n",
       "238  #aapl    #4chan  #daytrading https://t.co/ra2f...  0.2833333333333333   \n",
       "\n",
       "          user     likes     source  \\\n",
       "236  topstonks         0  topstonks   \n",
       "237        NaN       NaN        NaN   \n",
       "238       0.25  Positive        NaN   \n",
       "\n",
       "                                                  text  Subjectivity  \\\n",
       "236  $aapl one of the most mentioned on 4chan over ...           NaN   \n",
       "237                                                NaN           NaN   \n",
       "238                                                NaN           NaN   \n",
       "\n",
       "     Polarity Analysis  \n",
       "236       NaN      NaN  \n",
       "237       NaN      NaN  \n",
       "238       NaN      NaN  "
      ]
     },
     "execution_count": 11,
     "metadata": {},
     "output_type": "execute_result"
    }
   ],
   "source": [
    "tweets_data[tweets_data.isna().any(axis=1)]"
   ]
  },
  {
   "cell_type": "code",
   "execution_count": 12,
   "id": "dfb55271",
   "metadata": {},
   "outputs": [],
   "source": [
    "tweets_data.dropna(inplace=True)"
   ]
  },
  {
   "cell_type": "markdown",
   "id": "22d3cb1a",
   "metadata": {},
   "source": [
    "### 2.3.1 Plot the Word Cloud"
   ]
  },
  {
   "cell_type": "markdown",
   "id": "ee9b5f41",
   "metadata": {},
   "source": [
    "Now to actually understand the content of the tweets which people tweet, we need to know the most common types of words used in these tweets. To do so, we will have to create a Word Cloud of the top most words used in the tweets. We will make the word clouds based on the text."
   ]
  },
  {
   "cell_type": "code",
   "execution_count": 13,
   "id": "5ec36544",
   "metadata": {
    "scrolled": true
   },
   "outputs": [
    {
     "data": {
      "image/png": "[encoded data removed]",
      "text/plain": [
       "<Figure size 640x480 with 1 Axes>"
      ]
     },
     "metadata": {},
     "output_type": "display_data"
    }
   ],
   "source": [
    "#We want to look at the common words for all tweets\n",
    "from wordcloud import WordCloud\n",
    "allWords = ' '.join([twts for twts in tweets_data['text']])\n",
    "wordCloud = WordCloud(width=500, height=300, random_state=21, max_font_size=119).generate(allWords)\n",
    "\n",
    "plt.imshow(wordCloud, interpolation='bilinear')\n",
    "plt.axis('off')\n",
    "plt.show()"
   ]
  },
  {
   "cell_type": "markdown",
   "id": "9e68adbe",
   "metadata": {},
   "source": [
    "### 2.3.2 Subseting tweets"
   ]
  },
  {
   "cell_type": "markdown",
   "id": "5d3dca94",
   "metadata": {},
   "source": [
    "Now that we have imported the whole tweet dataset, we will be subsetting the tweets data into weekly increments. From there, we will create a function to filter out tweets that were produced during trading-hours, and tweets that were produced during after-hour. This will allow us to use the trading-hours tweets to predict closing price, and use after-hour tweets to predict opening price."
   ]
  },
  {
   "cell_type": "markdown",
   "id": "84426b21",
   "metadata": {},
   "source": [
    "From the first notebook, we know that the tweets were scraped using UTC timezone \\\n",
    "We will create two separate dataframes: \n",
    "1. tweets that were produced during trading-hours (1:30:00 PM UTC - 8:30:00 PM UTC)\n",
    "2. tweets that were produced during after-hour (8:30:00 PM PST - 1:30:00 PM PST)"
   ]
  },
  {
   "cell_type": "code",
   "execution_count": 14,
   "id": "b684bcb3",
   "metadata": {
    "scrolled": true
   },
   "outputs": [
    {
     "data": {
      "text/plain": [
       "array(['23:59:36', '23:59:22', '23:59:18', ..., '23:35:52', '23:35:51',\n",
       "       '23:35:49'], dtype=object)"
      ]
     },
     "execution_count": 14,
     "metadata": {},
     "output_type": "execute_result"
    }
   ],
   "source": [
    "tweets_data.Time.unique()"
   ]
  },
  {
   "cell_type": "code",
   "execution_count": 15,
   "id": "2cd0e700",
   "metadata": {},
   "outputs": [],
   "source": [
    "#Subseting tweets that were produced during trading-hours & after-hour:\n",
    "trading_hours = (tweets_data['Time'] >= '13:30:00') & (tweets_data['Time'] < '20:30:00')\n",
    "after_hours = (tweets_data['Time'] >= '20:30:00') & (tweets_data['Time'] < '13:30:00')\n",
    "\n",
    "trading_hours_tweets = tweets_data.loc[trading_hours]\n",
    "after_hours_tweets = tweets_data.loc[after_hours]"
   ]
  },
  {
   "cell_type": "code",
   "execution_count": 16,
   "id": "0f0adc97",
   "metadata": {},
   "outputs": [
    {
     "data": {
      "text/html": [
       "<div>\n",
       "<style scoped>\n",
       "    .dataframe tbody tr th:only-of-type {\n",
       "        vertical-align: middle;\n",
       "    }\n",
       "\n",
       "    .dataframe tbody tr th {\n",
       "        vertical-align: top;\n",
       "    }\n",
       "\n",
       "    .dataframe thead th {\n",
       "        text-align: right;\n",
       "    }\n",
       "</style>\n",
       "<table border=\"1\" class=\"dataframe\">\n",
       "  <thead>\n",
       "    <tr style=\"text-align: right;\">\n",
       "      <th></th>\n",
       "      <th>Dates</th>\n",
       "      <th>Time</th>\n",
       "      <th>user</th>\n",
       "      <th>likes</th>\n",
       "      <th>source</th>\n",
       "      <th>text</th>\n",
       "      <th>Subjectivity</th>\n",
       "      <th>Polarity</th>\n",
       "      <th>Analysis</th>\n",
       "    </tr>\n",
       "  </thead>\n",
       "  <tbody>\n",
       "  </tbody>\n",
       "</table>\n",
       "</div>"
      ],
      "text/plain": [
       "Empty DataFrame\n",
       "Columns: [Dates, Time, user, likes, source, text, Subjectivity, Polarity, Analysis]\n",
       "Index: []"
      ]
     },
     "execution_count": 16,
     "metadata": {},
     "output_type": "execute_result"
    }
   ],
   "source": [
    "#Viewing the tail to see if it starts at 13:30:00pm UTC\n",
    "trading_hours_tweets.tail()"
   ]
  },
  {
   "cell_type": "code",
   "execution_count": 17,
   "id": "5d451cd6",
   "metadata": {
    "scrolled": false
   },
   "outputs": [
    {
     "data": {
      "text/html": [
       "<div>\n",
       "<style scoped>\n",
       "    .dataframe tbody tr th:only-of-type {\n",
       "        vertical-align: middle;\n",
       "    }\n",
       "\n",
       "    .dataframe tbody tr th {\n",
       "        vertical-align: top;\n",
       "    }\n",
       "\n",
       "    .dataframe thead th {\n",
       "        text-align: right;\n",
       "    }\n",
       "</style>\n",
       "<table border=\"1\" class=\"dataframe\">\n",
       "  <thead>\n",
       "    <tr style=\"text-align: right;\">\n",
       "      <th></th>\n",
       "      <th>Dates</th>\n",
       "      <th>Time</th>\n",
       "      <th>user</th>\n",
       "      <th>likes</th>\n",
       "      <th>source</th>\n",
       "      <th>text</th>\n",
       "      <th>Subjectivity</th>\n",
       "      <th>Polarity</th>\n",
       "      <th>Analysis</th>\n",
       "    </tr>\n",
       "  </thead>\n",
       "  <tbody>\n",
       "  </tbody>\n",
       "</table>\n",
       "</div>"
      ],
      "text/plain": [
       "Empty DataFrame\n",
       "Columns: [Dates, Time, user, likes, source, text, Subjectivity, Polarity, Analysis]\n",
       "Index: []"
      ]
     },
     "execution_count": 17,
     "metadata": {},
     "output_type": "execute_result"
    }
   ],
   "source": [
    "#Inspecting the end time \n",
    "trading_hours_tweets.head()"
   ]
  },
  {
   "cell_type": "code",
   "execution_count": 18,
   "id": "1d920c8e",
   "metadata": {
    "scrolled": true
   },
   "outputs": [
    {
     "data": {
      "text/html": [
       "<div>\n",
       "<style scoped>\n",
       "    .dataframe tbody tr th:only-of-type {\n",
       "        vertical-align: middle;\n",
       "    }\n",
       "\n",
       "    .dataframe tbody tr th {\n",
       "        vertical-align: top;\n",
       "    }\n",
       "\n",
       "    .dataframe thead th {\n",
       "        text-align: right;\n",
       "    }\n",
       "</style>\n",
       "<table border=\"1\" class=\"dataframe\">\n",
       "  <thead>\n",
       "    <tr style=\"text-align: right;\">\n",
       "      <th></th>\n",
       "      <th>Dates</th>\n",
       "      <th>Time</th>\n",
       "      <th>user</th>\n",
       "      <th>likes</th>\n",
       "      <th>source</th>\n",
       "      <th>text</th>\n",
       "      <th>Subjectivity</th>\n",
       "      <th>Polarity</th>\n",
       "      <th>Analysis</th>\n",
       "    </tr>\n",
       "  </thead>\n",
       "  <tbody>\n",
       "  </tbody>\n",
       "</table>\n",
       "</div>"
      ],
      "text/plain": [
       "Empty DataFrame\n",
       "Columns: [Dates, Time, user, likes, source, text, Subjectivity, Polarity, Analysis]\n",
       "Index: []"
      ]
     },
     "execution_count": 18,
     "metadata": {},
     "output_type": "execute_result"
    }
   ],
   "source": [
    "#Inspecting tweets during after-hours\n",
    "after_hours_tweets.head()"
   ]
  },
  {
   "cell_type": "code",
   "execution_count": 19,
   "id": "454ed702",
   "metadata": {
    "scrolled": false
   },
   "outputs": [
    {
     "data": {
      "text/plain": [
       "pandas.core.frame.DataFrame"
      ]
     },
     "execution_count": 19,
     "metadata": {},
     "output_type": "execute_result"
    }
   ],
   "source": [
    "type(trading_hours_tweets)"
   ]
  },
  {
   "cell_type": "markdown",
   "id": "d6bc41ad",
   "metadata": {},
   "source": [
    "Looks like our function only queried tweets that were posted during trading hours  "
   ]
  },
  {
   "cell_type": "markdown",
   "id": "e430417f",
   "metadata": {},
   "source": [
    "### 2.3.3 Trading Hours Tweets"
   ]
  },
  {
   "cell_type": "code",
   "execution_count": 24,
   "id": "a4dadb67",
   "metadata": {},
   "outputs": [
    {
     "data": {
      "text/plain": [
       "0"
      ]
     },
     "execution_count": 24,
     "metadata": {},
     "output_type": "execute_result"
    }
   ],
   "source": [
    "len(trading_hours_tweets.text)"
   ]
  },
  {
   "cell_type": "code",
   "execution_count": 20,
   "id": "d1d0689c",
   "metadata": {},
   "outputs": [
    {
     "ename": "ZeroDivisionError",
     "evalue": "division by zero",
     "output_type": "error",
     "traceback": [
      "\u001b[0;31m---------------------------------------------------------------------------\u001b[0m",
      "\u001b[0;31mZeroDivisionError\u001b[0m                         Traceback (most recent call last)",
      "\u001b[0;32m/var/folders/v3/zfqmnfxs5z3dkfs5cn70l8bh0000gn/T/ipykernel_4974/2363608665.py\u001b[0m in \u001b[0;36m<module>\u001b[0;34m\u001b[0m\n\u001b[1;32m      3\u001b[0m \u001b[0mptweets_trading_hours\u001b[0m \u001b[0;34m=\u001b[0m \u001b[0mptweets_trading_hours\u001b[0m\u001b[0;34m[\u001b[0m\u001b[0;34m'text'\u001b[0m\u001b[0;34m]\u001b[0m\u001b[0;34m\u001b[0m\u001b[0;34m\u001b[0m\u001b[0m\n\u001b[1;32m      4\u001b[0m \u001b[0;34m\u001b[0m\u001b[0m\n\u001b[0;32m----> 5\u001b[0;31m \u001b[0mround\u001b[0m\u001b[0;34m(\u001b[0m\u001b[0mlen\u001b[0m\u001b[0;34m(\u001b[0m\u001b[0mptweets_trading_hours\u001b[0m\u001b[0;34m)\u001b[0m\u001b[0;34m/\u001b[0m\u001b[0mlen\u001b[0m\u001b[0;34m(\u001b[0m\u001b[0mtrading_hours_tweets\u001b[0m\u001b[0;34m[\u001b[0m\u001b[0;34m'text'\u001b[0m\u001b[0;34m]\u001b[0m\u001b[0;34m)\u001b[0m\u001b[0;34m*\u001b[0m\u001b[0;36m100\u001b[0m\u001b[0;34m,\u001b[0m \u001b[0;36m2\u001b[0m\u001b[0;34m)\u001b[0m\u001b[0;34m\u001b[0m\u001b[0;34m\u001b[0m\u001b[0m\n\u001b[0m",
      "\u001b[0;31mZeroDivisionError\u001b[0m: division by zero"
     ]
    }
   ],
   "source": [
    "#Get the percentage of positive tweets during trading hours\n",
    "ptweets_trading_hours = trading_hours_tweets[trading_hours_tweets.Analysis == 'Positive']\n",
    "ptweets_trading_hours = ptweets_trading_hours['text']\n",
    "\n",
    "round(len(ptweets_trading_hours)/len(trading_hours_tweets['text'])*100, 2)"
   ]
  },
  {
   "cell_type": "code",
   "execution_count": null,
   "id": "e5f47e45",
   "metadata": {},
   "outputs": [],
   "source": [
    "#Get the percentage of negative tweets during trading hours\n",
    "ntweets_trading_hours = trading_hours_tweets[trading_hours_tweets.Analysis == 'Negative']\n",
    "ntweets_trading_hours = ntweets_trading_hours['text']\n",
    "\n",
    "round(len(ntweets_trading_hours)/len(trading_hours_tweets['text'])*100, 2)"
   ]
  },
  {
   "cell_type": "code",
   "execution_count": null,
   "id": "554fcc64",
   "metadata": {},
   "outputs": [],
   "source": [
    "#Get the percentage of neutral tweets during trading hours\n",
    "neutraltweets_trading_hours = trading_hours_tweets[trading_hours_tweets.Analysis == 'Neutral']\n",
    "neutraltweets_trading_hours = neutraltweets_trading_hours['text']\n",
    "\n",
    "round(len(neutraltweets_trading_hours)/len(trading_hours_tweets['text'])*100, 2)"
   ]
  },
  {
   "cell_type": "code",
   "execution_count": null,
   "id": "150b3b5f",
   "metadata": {
    "scrolled": false
   },
   "outputs": [],
   "source": [
    "#Show the value counts\n",
    "trading_hours_tweets['Analysis'].value_counts()\n",
    "\n",
    "#plot and visualize the counts\n",
    "plt.title('Sentiment Analysis during Trading Hours')\n",
    "plt.xlabel('Sentiment')\n",
    "plt.ylabel('Counts')\n",
    "trading_hours_tweets['Analysis'].value_counts().plot(kind='bar')"
   ]
  },
  {
   "cell_type": "markdown",
   "id": "c0cd69f5",
   "metadata": {},
   "source": [
    "### 2.3.4 Frequency"
   ]
  },
  {
   "cell_type": "markdown",
   "id": "457b005b",
   "metadata": {},
   "source": [
    "Now we want to visualize most frequent tweeter in October 2022"
   ]
  },
  {
   "cell_type": "code",
   "execution_count": null,
   "id": "ac77976f",
   "metadata": {},
   "outputs": [],
   "source": [
    "def plot_frequency_charts(df, feature, title, pallete):\n",
    "    freq_df = pd.DataFrame()\n",
    "    freq_df[feature] = df[feature]\n",
    "    \n",
    "    f, ax = plt.subplots(1,1, figsize=(16,4))\n",
    "    total = float(len(df))\n",
    "    g = sns.countplot(df[feature], order = df[feature].value_counts().index[:20], palette=pallete)\n",
    "    g.set_title(\"Number and percentage of {}\".format(title))\n",
    "\n",
    "    for p in ax.patches:\n",
    "        height = p.get_height()\n",
    "        ax.text(p.get_x()+p.get_width()/2.,\n",
    "                height + 3,\n",
    "                '{:1.2f}%'.format(100*height/total),\n",
    "                ha=\"center\") \n",
    "\n",
    "    plt.title('Frequency of {} tweeting in October 2022'.format(feature))\n",
    "    plt.ylabel('Frequency', fontsize=12)\n",
    "    plt.xlabel(title, fontsize=12)\n",
    "    plt.xticks(rotation=90)\n",
    "    plt.show()"
   ]
  },
  {
   "cell_type": "code",
   "execution_count": null,
   "id": "c89c4554",
   "metadata": {},
   "outputs": [],
   "source": [
    "plot_frequency_charts(trading_hours_tweets, 'user', 'Username', 'winter')"
   ]
  },
  {
   "cell_type": "markdown",
   "id": "9f399d17",
   "metadata": {},
   "source": [
    "We also want to visualize what date users were the most active on Twitter"
   ]
  },
  {
   "cell_type": "code",
   "execution_count": null,
   "id": "27c4df00",
   "metadata": {},
   "outputs": [],
   "source": [
    "plot_frequency_charts(trading_hours_tweets, 'Dates', 'Date', 'spring')"
   ]
  },
  {
   "cell_type": "code",
   "execution_count": null,
   "id": "c5ea7808",
   "metadata": {
    "scrolled": false
   },
   "outputs": [],
   "source": [
    "plot_frequency_charts(trading_hours_tweets, 'Time', 'Time', 'tab20')"
   ]
  },
  {
   "cell_type": "markdown",
   "id": "e2f967ec",
   "metadata": {},
   "source": [
    "The most \"popular\" time of tweet should also be visualized. Just a reminder that we're looking at UTC time, so 13:30pm UTC is 5:30am PST and 8:30am EST"
   ]
  },
  {
   "cell_type": "markdown",
   "id": "a13d0c01",
   "metadata": {},
   "source": [
    "What is the most common number of likes in a tweet in October 2022?"
   ]
  },
  {
   "cell_type": "code",
   "execution_count": null,
   "id": "494438a8",
   "metadata": {
    "scrolled": false
   },
   "outputs": [],
   "source": [
    "plot_frequency_charts(trading_hours_tweets, 'likes', 'Amount of like', 'summer')"
   ]
  },
  {
   "cell_type": "markdown",
   "id": "b7cd2cca",
   "metadata": {},
   "source": [
    "What devices were the users using to post these tweets?"
   ]
  },
  {
   "cell_type": "code",
   "execution_count": null,
   "id": "838b2a01",
   "metadata": {
    "scrolled": false
   },
   "outputs": [],
   "source": [
    "plot_frequency_charts(trading_hours_tweets, 'source', 'Source', 'tab20')"
   ]
  },
  {
   "cell_type": "markdown",
   "id": "ce99229b",
   "metadata": {},
   "source": [
    "## Saving"
   ]
  },
  {
   "cell_type": "code",
   "execution_count": null,
   "id": "79fa6dbd",
   "metadata": {},
   "outputs": [],
   "source": [
    "eda_stock_data.to_csv('/Users/user/Documents/Springboard_Data_Science/Capstone_2_Twitter_Sentiment_Analysis/Data/eda_stock_data.csv', index=False)\n",
    "trading_hours_tweets.to_csv('/Users/user/Documents/Springboard_Data_Science/Capstone_2_Twitter_Sentiment_Analysis/Data/trading_hours_tweets.csv', index=False)"
   ]
  }
 ],
 "metadata": {
  "kernelspec": {
   "display_name": "Python 3 (ipykernel)",
   "language": "python",
   "name": "python3"
  },
  "language_info": {
   "codemirror_mode": {
    "name": "ipython",
    "version": 3
   },
   "file_extension": ".py",
   "mimetype": "text/x-python",
   "name": "python",
   "nbconvert_exporter": "python",
   "pygments_lexer": "ipython3",
   "version": "3.9.13"
  }
 },
 "nbformat": 4,
 "nbformat_minor": 5
}
